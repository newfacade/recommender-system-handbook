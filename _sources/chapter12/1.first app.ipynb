{
 "cells": [
  {
   "cell_type": "markdown",
   "metadata": {},
   "source": [
    "# 第一个应用\n",
    "\n",
    "```{note}\n",
    "我们用一个简单的示例来说明Spark Python API的基本用法。\n",
    "```"
   ]
  },
  {
   "cell_type": "markdown",
   "metadata": {},
   "source": [
    "## 数据\n",
    "\n",
    "数据集是一个csv文件，共三列，分别表示州名、彩虹糖的颜色、彩虹糖的数量"
   ]
  },
  {
   "cell_type": "code",
   "execution_count": 1,
   "metadata": {},
   "outputs": [
    {
     "name": "stdout",
     "output_type": "stream",
     "text": [
      "State,Color,Count\r",
      "\r\n",
      "TX,Red,20\r",
      "\r\n",
      "NV,Blue,66\r",
      "\r\n",
      "CO,Blue,79\r",
      "\r\n",
      "OR,Blue,71\r",
      "\r\n",
      "WA,Yellow,93\r",
      "\r\n",
      "WY,Blue,16\r",
      "\r\n",
      "CA,Yellow,53\r",
      "\r\n",
      "WA,Green,60\r",
      "\r\n",
      "OR,Green,71\r",
      "\r\n"
     ]
    }
   ],
   "source": [
    "!head ../data/mnm_dataset.csv"
   ]
  },
  {
   "cell_type": "markdown",
   "metadata": {},
   "source": [
    "## 创建SparkSession"
   ]
  },
  {
   "cell_type": "code",
   "execution_count": 2,
   "metadata": {},
   "outputs": [],
   "source": [
    "import sys\n",
    "\n",
    "from pyspark.sql import SparkSession\n",
    "from pyspark.sql.functions import count"
   ]
  },
  {
   "cell_type": "code",
   "execution_count": 3,
   "metadata": {},
   "outputs": [],
   "source": [
    "# 加括号是为了方便换行\n",
    "spark = (SparkSession\n",
    "         .builder\n",
    "         # appName表示此应用的名字\n",
    "         .appName(\"PythonMnMCount\")\n",
    "         .getOrCreate())"
   ]
  },
  {
   "cell_type": "markdown",
   "metadata": {},
   "source": [
    "## 创建DataFrame\n",
    "\n",
    "就像使用pandas的DataFrame一样。"
   ]
  },
  {
   "cell_type": "code",
   "execution_count": 4,
   "metadata": {},
   "outputs": [],
   "source": [
    "# 指定文件类型为csv\n",
    "df = (spark.read.format(\"csv\")\n",
    "      # csv有header\n",
    "      .option(\"header\", \"true\")\n",
    "      # 自动推测字段类型\n",
    "      .option(\"inferSchema\", \"true\")\n",
    "      # 文件地址\n",
    "      .load(\"../data/mnm_dataset.csv\"))"
   ]
  },
  {
   "cell_type": "markdown",
   "metadata": {},
   "source": [
    "## 统计各州各颜色糖的总数"
   ]
  },
  {
   "cell_type": "code",
   "execution_count": 5,
   "metadata": {},
   "outputs": [],
   "source": [
    "count_df = (df\n",
    "            # 选取三列\n",
    "            .select(\"State\", \"Color\", \"Count\")\n",
    "            # 各州、各颜色\n",
    "            .groupBy(\"State\", \"Color\")\n",
    "            # 数量加起来，成为新的一列`Total`\n",
    "            .agg(count(\"Count\").alias(\"Total\"))\n",
    "            # 按`Total`降序排列\n",
    "            .orderBy(\"Total\", ascending=False))"
   ]
  },
  {
   "cell_type": "code",
   "execution_count": 6,
   "metadata": {},
   "outputs": [
    {
     "name": "stdout",
     "output_type": "stream",
     "text": [
      "+-----+------+-----+\n",
      "|State|Color |Total|\n",
      "+-----+------+-----+\n",
      "|CA   |Yellow|1807 |\n",
      "|WA   |Green |1779 |\n",
      "|OR   |Orange|1743 |\n",
      "|TX   |Green |1737 |\n",
      "|TX   |Red   |1725 |\n",
      "|CA   |Green |1723 |\n",
      "|CO   |Yellow|1721 |\n",
      "|CA   |Brown |1718 |\n",
      "|CO   |Green |1713 |\n",
      "|NV   |Orange|1712 |\n",
      "+-----+------+-----+\n",
      "only showing top 10 rows\n",
      "\n"
     ]
    }
   ],
   "source": [
    "# 展示前10行\n",
    "# truncate: 是否每行最多只显示20个字符，默认为true。 \n",
    "count_df.show(n=10, truncate=False)"
   ]
  },
  {
   "cell_type": "markdown",
   "metadata": {},
   "source": [
    "## 只统计加州"
   ]
  },
  {
   "cell_type": "code",
   "execution_count": 7,
   "metadata": {},
   "outputs": [],
   "source": [
    "ca_count_df = (df\n",
    "               .select(\"State\", \"Color\", \"Count\")\n",
    "               # 通过where只统计加州\n",
    "               .where(df.State == \"CA\")\n",
    "               .groupBy(\"State\", \"Color\")\n",
    "               .agg(count(\"Count\").alias(\"Total\"))\n",
    "               .orderBy(\"Total\", ascending=False))"
   ]
  },
  {
   "cell_type": "code",
   "execution_count": 8,
   "metadata": {},
   "outputs": [
    {
     "name": "stdout",
     "output_type": "stream",
     "text": [
      "+-----+------+-----+\n",
      "|State|Color |Total|\n",
      "+-----+------+-----+\n",
      "|CA   |Yellow|1807 |\n",
      "|CA   |Green |1723 |\n",
      "|CA   |Brown |1718 |\n",
      "|CA   |Orange|1657 |\n",
      "|CA   |Red   |1656 |\n",
      "|CA   |Blue  |1603 |\n",
      "+-----+------+-----+\n",
      "\n"
     ]
    }
   ],
   "source": [
    "ca_count_df.show(n=10, truncate=False)"
   ]
  },
  {
   "cell_type": "code",
   "execution_count": null,
   "metadata": {},
   "outputs": [],
   "source": []
  }
 ],
 "metadata": {
  "kernelspec": {
   "display_name": "Python 3",
   "language": "python",
   "name": "python3"
  },
  "language_info": {
   "codemirror_mode": {
    "name": "ipython",
    "version": 3
   },
   "file_extension": ".py",
   "mimetype": "text/x-python",
   "name": "python",
   "nbconvert_exporter": "python",
   "pygments_lexer": "ipython3",
   "version": "3.8.3"
  }
 },
 "nbformat": 4,
 "nbformat_minor": 4
}
