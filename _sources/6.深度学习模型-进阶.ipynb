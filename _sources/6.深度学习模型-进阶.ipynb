{
 "cells": [
  {
   "cell_type": "markdown",
   "metadata": {},
   "source": [
    "# 深度学习模型-进阶\n",
    "\n",
    "## DIN-注意力机制\n",
    "\n",
    "“注意力机制”来源于人类天生的“选择性注意”的习惯，如浏览网页时，我们会选择性的注意页面的特定区域，而忽视其他区域：\n",
    "\n",
    "![jupyter](images/attention1.jpg)\n",
    "\n",
    "对于推荐系统来说，“注意力机制”也很有用。\n",
    "\n",
    "比如说一个用户访问某电商网站，我们决定是否要推“键盘”，用户的购买历史有“鼠标””T恤“”洗面奶“等，这时相比于关注”T恤“”洗面奶“的购买行为，我们应更加关注的是用户购买历史中的“鼠标”购买行为，因为“鼠标”和“键盘”的购买更“相关”。\n",
    "\n",
    "因此阿里提出了DIN模型，它的base-model是一个典型的embedding + mlp结构。\n",
    "\n",
    "![jupyter](images/din1.jpg)\n",
    "\n",
    "base-model中，所有用户历史购买的商品Embedding会被取平均。\n",
    "\n",
    "DIN则以候选商品和历史商品的相关性为权重，取所有用户历史购买的商品Embedding的加权平均：\n",
    "\n",
    "![jupyter](images/din2.jpg)"
   ]
  },
  {
   "cell_type": "markdown",
   "metadata": {},
   "source": [
    "### 跟embedding + mlp一样导入数据"
   ]
  },
  {
   "cell_type": "code",
   "execution_count": 2,
   "metadata": {},
   "outputs": [],
   "source": [
    "import tensorflow as tf\n",
    "\n",
    "# Training samples path, change to your local path\n",
    "training_samples_file_path = tf.keras.utils.get_file(\"trainingSamples.csv\",\n",
    "                                                     \"file:///Users/facer/IdeaProjects/SparrowRecSys/src/main\"\n",
    "                                                     \"/resources/webroot/sampledata/trainingSamples.csv\")\n",
    "# Test samples path, change to your local path\n",
    "test_samples_file_path = tf.keras.utils.get_file(\"testSamples.csv\",\n",
    "                                                 \"file:///Users/facer/IdeaProjects/SparrowRecSys/src/main\"\n",
    "                                                 \"/resources/webroot/sampledata/testSamples.csv\")\n",
    "\n",
    "# load sample as tf dataset\n",
    "def get_dataset(file_path):\n",
    "    dataset = tf.data.experimental.make_csv_dataset(\n",
    "        file_path,\n",
    "        batch_size=12,\n",
    "        label_name='label',\n",
    "        na_value=\"0\",\n",
    "        num_epochs=1,\n",
    "        ignore_errors=True)\n",
    "    return dataset\n",
    "\n",
    "\n",
    "# split as test dataset and training dataset\n",
    "train_dataset = get_dataset(training_samples_file_path)\n",
    "test_dataset = get_dataset(test_samples_file_path)\n"
   ]
  },
  {
   "cell_type": "markdown",
   "metadata": {},
   "source": [
    "### 特征处理"
   ]
  },
  {
   "cell_type": "code",
   "execution_count": 9,
   "metadata": {},
   "outputs": [],
   "source": [
    "\n",
    "\"\"\"\n",
    "movie id, user id embedding\n",
    "电影id被即模型中candidate Ad\n",
    "\"\"\"\n",
    "# Config\n",
    "EMBEDDING_SIZE = 10\n",
    "\n",
    "# movie id embedding feature\n",
    "movie_col = tf.feature_column.categorical_column_with_identity(key='movieId', num_buckets=1001)\n",
    "movie_emb_col = tf.feature_column.embedding_column(movie_col, EMBEDDING_SIZE)\n",
    "\n",
    "# user id embedding feature\n",
    "user_col = tf.feature_column.categorical_column_with_identity(key='userId', num_buckets=30001)\n",
    "user_emb_col = tf.feature_column.embedding_column(user_col, EMBEDDING_SIZE)"
   ]
  },
  {
   "cell_type": "code",
   "execution_count": 4,
   "metadata": {},
   "outputs": [],
   "source": [
    "\n",
    "\"\"\"\n",
    "类别型特征的embedding\n",
    "仅对用户的第一类别、电影的第一类别做embedding\n",
    "\"\"\"\n",
    "# genre features vocabulary\n",
    "genre_vocab = ['Film-Noir', 'Action', 'Adventure', 'Horror', 'Romance', 'War', 'Comedy', 'Western', 'Documentary',\n",
    "               'Sci-Fi', 'Drama', 'Thriller',\n",
    "               'Crime', 'Fantasy', 'Animation', 'IMAX', 'Mystery', 'Children', 'Musical']\n",
    "# user genre embedding feature\n",
    "user_genre_col = tf.feature_column.categorical_column_with_vocabulary_list(key=\"userGenre1\",\n",
    "                                                                           vocabulary_list=genre_vocab)\n",
    "user_genre_emb_col = tf.feature_column.embedding_column(user_genre_col, EMBEDDING_SIZE)\n",
    "# item genre embedding feature\n",
    "item_genre_col = tf.feature_column.categorical_column_with_vocabulary_list(key=\"movieGenre1\",\n",
    "                                                                           vocabulary_list=genre_vocab)\n",
    "item_genre_emb_col = tf.feature_column.embedding_column(item_genre_col, EMBEDDING_SIZE)"
   ]
  },
  {
   "cell_type": "code",
   "execution_count": 5,
   "metadata": {},
   "outputs": [],
   "source": [
    "\n",
    "\"\"\"\n",
    "用户特征：用户id embedding + 用户第一类别embedding + 用户数值型特征\n",
    "上下文特征：电影第一类别embedding + 电影数值型特征\n",
    "\"\"\"\n",
    "# user profile\n",
    "user_profile = [\n",
    "    user_emb_col,\n",
    "    user_genre_emb_col,\n",
    "    tf.feature_column.numeric_column('userRatingCount'),\n",
    "    tf.feature_column.numeric_column('userAvgRating'),\n",
    "    tf.feature_column.numeric_column('userRatingStddev'),\n",
    "]\n",
    "\n",
    "# context features\n",
    "context_features = [\n",
    "    item_genre_emb_col,\n",
    "    tf.feature_column.numeric_column('releaseYear'),\n",
    "    tf.feature_column.numeric_column('movieRatingCount'),\n",
    "    tf.feature_column.numeric_column('movieAvgRating'),\n",
    "    tf.feature_column.numeric_column('movieRatingStddev'),\n",
    "]"
   ]
  },
  {
   "cell_type": "code",
   "execution_count": 7,
   "metadata": {},
   "outputs": [],
   "source": [
    "\n",
    "\"\"\"\n",
    "用户行为历史，5个\n",
    "\"\"\"\n",
    "# Config\n",
    "RECENT_MOVIES = 5  # userRatedMovie{1-5}\n",
    "\n",
    "# user behaviors\n",
    "recent_rate_col = [\n",
    "    tf.feature_column.numeric_column(key='userRatedMovie1', default_value=0),\n",
    "    tf.feature_column.numeric_column(key='userRatedMovie2', default_value=0),\n",
    "    tf.feature_column.numeric_column(key='userRatedMovie3', default_value=0),\n",
    "    tf.feature_column.numeric_column(key='userRatedMovie4', default_value=0),\n",
    "    tf.feature_column.numeric_column(key='userRatedMovie5', default_value=0),\n",
    "]"
   ]
  },
  {
   "cell_type": "code",
   "execution_count": 8,
   "metadata": {},
   "outputs": [],
   "source": [
    "\n",
    "\"\"\"\n",
    "我们模型所需的原始输入数据\n",
    "\"\"\"\n",
    "# define input for keras model\n",
    "inputs = {\n",
    "    'movieAvgRating': tf.keras.layers.Input(name='movieAvgRating', shape=(), dtype='float32'),\n",
    "    'movieRatingStddev': tf.keras.layers.Input(name='movieRatingStddev', shape=(), dtype='float32'),\n",
    "    'movieRatingCount': tf.keras.layers.Input(name='movieRatingCount', shape=(), dtype='int32'),\n",
    "    'userAvgRating': tf.keras.layers.Input(name='userAvgRating', shape=(), dtype='float32'),\n",
    "    'userRatingStddev': tf.keras.layers.Input(name='userRatingStddev', shape=(), dtype='float32'),\n",
    "    'userRatingCount': tf.keras.layers.Input(name='userRatingCount', shape=(), dtype='int32'),\n",
    "    'releaseYear': tf.keras.layers.Input(name='releaseYear', shape=(), dtype='int32'),\n",
    "\n",
    "    'movieId': tf.keras.layers.Input(name='movieId', shape=(), dtype='int32'),\n",
    "    'userId': tf.keras.layers.Input(name='userId', shape=(), dtype='int32'),\n",
    "    'userRatedMovie1': tf.keras.layers.Input(name='userRatedMovie1', shape=(), dtype='int32'),\n",
    "    'userRatedMovie2': tf.keras.layers.Input(name='userRatedMovie2', shape=(), dtype='int32'),\n",
    "    'userRatedMovie3': tf.keras.layers.Input(name='userRatedMovie3', shape=(), dtype='int32'),\n",
    "    'userRatedMovie4': tf.keras.layers.Input(name='userRatedMovie4', shape=(), dtype='int32'),\n",
    "    'userRatedMovie5': tf.keras.layers.Input(name='userRatedMovie5', shape=(), dtype='int32'),\n",
    "\n",
    "    'userGenre1': tf.keras.layers.Input(name='userGenre1', shape=(), dtype='string'),\n",
    "    'userGenre2': tf.keras.layers.Input(name='userGenre2', shape=(), dtype='string'),\n",
    "    'userGenre3': tf.keras.layers.Input(name='userGenre3', shape=(), dtype='string'),\n",
    "    'userGenre4': tf.keras.layers.Input(name='userGenre4', shape=(), dtype='string'),\n",
    "    'userGenre5': tf.keras.layers.Input(name='userGenre5', shape=(), dtype='string'),\n",
    "    'movieGenre1': tf.keras.layers.Input(name='movieGenre1', shape=(), dtype='string'),\n",
    "    'movieGenre2': tf.keras.layers.Input(name='movieGenre2', shape=(), dtype='string'),\n",
    "    'movieGenre3': tf.keras.layers.Input(name='movieGenre3', shape=(), dtype='string'),\n",
    "}"
   ]
  },
  {
   "cell_type": "markdown",
   "metadata": {},
   "source": [
    "### 定义模型"
   ]
  },
  {
   "cell_type": "code",
   "execution_count": 10,
   "metadata": {},
   "outputs": [],
   "source": [
    "\n",
    "\"\"\"\n",
    "将上述特征处理落到实处\n",
    "候选物品特征、用户历史行为特征、用户画像特征、上下文特征\n",
    "\"\"\"\n",
    "candidate_emb_layer = tf.keras.layers.DenseFeatures([movie_emb_col])(inputs)\n",
    "user_behaviors_layer = tf.keras.layers.DenseFeatures(recent_rate_col)(inputs)\n",
    "user_profile_layer = tf.keras.layers.DenseFeatures(user_profile)(inputs)\n",
    "context_features_layer = tf.keras.layers.DenseFeatures(context_features)(inputs)"
   ]
  },
  {
   "cell_type": "code",
   "execution_count": 11,
   "metadata": {},
   "outputs": [],
   "source": [
    "\"\"\"\n",
    "mask_zero:0当做padding\n",
    "candidate_emb复制5次\n",
    "相减，相乘，自身---concat起来，用户计算activation weight\n",
    "\"\"\"\n",
    "user_behaviors_emb_layer = tf.keras.layers.Embedding(input_dim=1001,\n",
    "                                                     output_dim=EMBEDDING_SIZE,\n",
    "                                                     mask_zero=True)(user_behaviors_layer)  # mask zero\n",
    "repeated_candidate_emb_layer = tf.keras.layers.RepeatVector(RECENT_MOVIES)(candidate_emb_layer)\n",
    "\n",
    "activation_sub_layer = tf.keras.layers.Subtract()([user_behaviors_emb_layer,\n",
    "                                                   repeated_candidate_emb_layer])  # element-wise sub\n",
    "activation_product_layer = tf.keras.layers.Multiply()([user_behaviors_emb_layer,\n",
    "                                                       repeated_candidate_emb_layer])  # element-wise product\n",
    "\n",
    "activation_all = tf.keras.layers.concatenate([activation_sub_layer, user_behaviors_emb_layer,\n",
    "                                              repeated_candidate_emb_layer, activation_product_layer], axis=-1)"
   ]
  },
  {
   "cell_type": "code",
   "execution_count": 12,
   "metadata": {},
   "outputs": [],
   "source": [
    "# 获得activation\n",
    "activation_unit = tf.keras.layers.Dense(32)(activation_all)\n",
    "activation_unit = tf.keras.layers.PReLU()(activation_unit)  # 小于0的斜率为参数\n",
    "activation_unit = tf.keras.layers.Dense(1, activation='sigmoid')(activation_unit)\n",
    "\n",
    "# 将activation（先需reshape）与user_behaviors_emb相乘\n",
    "activation_unit = tf.keras.layers.Flatten()(activation_unit)\n",
    "activation_unit = tf.keras.layers.RepeatVector(EMBEDDING_SIZE)(activation_unit)\n",
    "activation_unit = tf.keras.layers.Permute((2, 1))(activation_unit)\n",
    "activation_unit = tf.keras.layers.Multiply()([user_behaviors_emb_layer, activation_unit])\n",
    "\n",
    "# sum pooling\n",
    "user_behaviors_pooled_layers = tf.keras.layers.Lambda(lambda x: tf.keras.backend.sum(x, axis=1))(activation_unit)"
   ]
  },
  {
   "cell_type": "code",
   "execution_count": 13,
   "metadata": {},
   "outputs": [],
   "source": [
    "# fc layer\n",
    "concat_layer = tf.keras.layers.concatenate([user_profile_layer, user_behaviors_pooled_layers,\n",
    "                                            candidate_emb_layer, context_features_layer])\n",
    "output_layer = tf.keras.layers.Dense(128)(concat_layer)\n",
    "output_layer = tf.keras.layers.PReLU()(output_layer)\n",
    "output_layer = tf.keras.layers.Dense(64)(output_layer)\n",
    "output_layer = tf.keras.layers.PReLU()(output_layer)\n",
    "output_layer = tf.keras.layers.Dense(1, activation='sigmoid')(output_layer)\n",
    "\n",
    "# 定义模型\n",
    "model = tf.keras.Model(inputs, output_layer)"
   ]
  },
  {
   "cell_type": "code",
   "execution_count": 14,
   "metadata": {},
   "outputs": [
    {
     "name": "stdout",
     "output_type": "stream",
     "text": [
      "Epoch 1/5\n"
     ]
    },
    {
     "name": "stderr",
     "output_type": "stream",
     "text": [
      "/Users/facer/opt/anaconda3/lib/python3.8/site-packages/tensorflow/python/keras/engine/functional.py:592: UserWarning: Input dict contained keys ['rating', 'timestamp', 'userAvgReleaseYear', 'userReleaseYearStddev'] which did not match any model input. They will be ignored by the model.\n",
      "  warnings.warn(\n"
     ]
    },
    {
     "name": "stdout",
     "output_type": "stream",
     "text": [
      "7403/7403 [==============================] - 18s 2ms/step - loss: 6.4626 - accuracy: 0.5617 - auc_2: 0.5690 - auc_3: 0.6155\n",
      "Epoch 2/5\n",
      "7403/7403 [==============================] - 17s 2ms/step - loss: 0.9878 - accuracy: 0.6312 - auc_2: 0.6636 - auc_3: 0.6976\n",
      "Epoch 3/5\n",
      "7403/7403 [==============================] - 15s 2ms/step - loss: 0.5799 - accuracy: 0.6994 - auc_2: 0.7563 - auc_3: 0.7763\n",
      "Epoch 4/5\n",
      "7403/7403 [==============================] - 15s 2ms/step - loss: 0.5315 - accuracy: 0.7348 - auc_2: 0.8043 - auc_3: 0.8247\n",
      "Epoch 5/5\n",
      "7403/7403 [==============================] - 15s 2ms/step - loss: 0.5014 - accuracy: 0.7558 - auc_2: 0.8295 - auc_3: 0.8525\n",
      "1870/1870 [==============================] - 3s 1ms/step - loss: 0.6786 - accuracy: 0.6841 - auc_2: 0.7544 - auc_3: 0.7820\n",
      "\n",
      "\n",
      "Test Loss 0.678617537021637, Test Accuracy 0.6841354966163635, Test ROC AUC 0.7543755769729614, Test PR AUC 0.7820263504981995\n"
     ]
    }
   ],
   "source": [
    "# compile the model, set loss function, optimizer and evaluation metrics\n",
    "model.compile(\n",
    "    loss='binary_crossentropy',\n",
    "    optimizer='adam',\n",
    "    metrics=['accuracy', tf.keras.metrics.AUC(curve='ROC'), tf.keras.metrics.AUC(curve='PR')])\n",
    "\n",
    "# train the model\n",
    "model.fit(train_dataset, epochs=5)\n",
    "\n",
    "# evaluate the model\n",
    "test_loss, test_accuracy, test_roc_auc, test_pr_auc = model.evaluate(test_dataset)\n",
    "print('\\n\\nTest Loss {}, Test Accuracy {}, Test ROC AUC {}, Test PR AUC {}'.format(test_loss, test_accuracy,\n",
    "                                                                                   test_roc_auc, test_pr_auc))"
   ]
  },
  {
   "cell_type": "markdown",
   "metadata": {},
   "source": [
    "## DIEN-兴趣进化序列\n",
    "\n",
    "无论是电商购买行为，还是视频观看行为，它们都是随时间排序的序列。序列中存在着前后行为的依赖关系，它是很有价值的。\n",
    "\n",
    "比如说上周用户在挑选一双篮球鞋，这位用户上周的行为序列会集中在篮球鞋的各品类商品中。在完成这一购买目标后，它的兴趣往往会迁移，比如说这周开始关注起机械键盘，这就是兴趣的进化。\n",
    "\n",
    "为了捕捉兴趣进化，我们需要对用户的行为序列建模。阿里DIEN在DIN的基础上，使用了GRU和AUGRU（GRU with Attention update gate）来进行序列建模：\n",
    "\n",
    "![jupyter](images/din3.jpg)\n",
    "\n",
    "DIEN用”兴趣进化网络“也就是图中的彩色部分替换掉了原来的用户历史行为部分，虽然复杂，但还是只输出了一个$h'(T)$的embedding向量。\n",
    "\n",
    "图中彩色部分共分3层：\n",
    "\n",
    "第一层是embedding层（浅蓝部分），即将原始id信息转化为embedding行为序列。\n",
    "\n",
    "第二层是兴趣抽取层（浅黄部分），它利用GRU组成的序列模型，来模拟用户每个节点的兴趣。\n",
    "\n",
    "![jupyter](images/gru.png)\n",
    "\n",
    "GRU的结构：\n",
    "\n",
    "重置门:\n",
    "\n",
    "$$r_t = \\sigma(x_t W_{xr} + h_{t-1} W_{hr} + b_r)$$\n",
    "\n",
    "候选状态:\n",
    "\n",
    "$$\\tilde{h}_{t} = tanh(x_{t}W_{xh} + (r_{t} \\odot h_{t-1})W_{hh} + b_{h})$$\n",
    "\n",
    "更新门:\n",
    "\n",
    "$$z_t = \\sigma(x_t W_{xz} + h_{t-1} W_{hz} + b_z)$$\n",
    "\n",
    "状态：\n",
    "\n",
    "$$h_{t} = z_{t} \\odot h_{t-1} + (1 - z_{t}) \\odot \\tilde{h}_{t}$$\n",
    "\n",
    "这里，作者设计了一个二分类模型来确保兴趣抽取的正确性，以用户下一时刻的真实行为$e(t+1)$为正例，负采样$e(t+1)'$（如随机采样），辅助兴趣$h(t)$的生成。\n",
    "\n",
    "第三层是兴趣进化层（浅红部分），它的主要作用是利用AUGRU（GRU with Attention update gate）组成的序列模型，在兴趣抽取层基础上加入注意力机制，模拟与当前广告（Target Ad）相关的兴趣进化过程。\n",
    "\n",
    "AUGRU在GRU原更新门的结构上加入了注意力得分，即:\n",
    "\n",
    "加入注意力的更新门:\n",
    "\n",
    "$$\\tilde{z}_t = a_{t} \\odot z_{t}$$\n",
    "\n",
    "状态：\n",
    "\n",
    "$$h_{t} = \\tilde{z}_{t} \\odot h_{t-1} + (1 - \\tilde{z}_{t}) \\odot \\tilde{h}_{t}$$\n",
    "\n",
    "上面，注意力得分$a_{t}$的生成方式与DIN中基本一致。"
   ]
  },
  {
   "cell_type": "markdown",
   "metadata": {},
   "source": [
    "## MIMN模型\n",
    "\n",
    "![jupyter](images/mimn.jpg)\n",
    "\n",
    "MIMN模型相比DIEN加入了多条平行的兴趣演化路径。\n",
    "\n",
    "还没太看明白。。"
   ]
  },
  {
   "cell_type": "code",
   "execution_count": null,
   "metadata": {},
   "outputs": [],
   "source": []
  }
 ],
 "metadata": {
  "kernelspec": {
   "display_name": "Python 3",
   "language": "python",
   "name": "python3"
  },
  "language_info": {
   "codemirror_mode": {
    "name": "ipython",
    "version": 3
   },
   "file_extension": ".py",
   "mimetype": "text/x-python",
   "name": "python",
   "nbconvert_exporter": "python",
   "pygments_lexer": "ipython3",
   "version": "3.8.3"
  }
 },
 "nbformat": 4,
 "nbformat_minor": 4
}
