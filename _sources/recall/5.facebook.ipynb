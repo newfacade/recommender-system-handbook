{
 "cells": [
  {
   "cell_type": "markdown",
   "id": "61ae7444-553b-46f8-a0e0-8929d31613b4",
   "metadata": {},
   "source": [
    "# Facebook 的 EBR 算法"
   ]
  },
  {
   "cell_type": "code",
   "execution_count": null,
   "id": "afbe1bee-ef0f-4f18-94ba-f88bfeebd669",
   "metadata": {},
   "outputs": [],
   "source": []
  }
 ],
 "metadata": {
  "kernelspec": {
   "display_name": "Python 3",
   "language": "python",
   "name": "python3"
  },
  "language_info": {
   "codemirror_mode": {
    "name": "ipython",
    "version": 3
   },
   "file_extension": ".py",
   "mimetype": "text/x-python",
   "name": "python",
   "nbconvert_exporter": "python",
   "pygments_lexer": "ipython3",
   "version": "3.8.3"
  }
 },
 "nbformat": 4,
 "nbformat_minor": 5
}
