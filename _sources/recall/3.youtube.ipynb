{
 "cells": [
  {
   "cell_type": "markdown",
   "id": "3565b744-bc48-4f33-8b55-fe78ccea7b56",
   "metadata": {},
   "source": [
    "# Youtube 召回算法\n",
    "\n",
    "```\n",
    "Youtube 在 《Deep Neural Networks for YouTube Recommendations》一文中介绍的基于 DNN 的召回算法，非常经典，开 DNN 在召回中应用的先河。\n",
    "```\n",
    "\n",
    "```{image} ../images/youtube1.webp\n",
    ":alt: youtube\n",
    ":class: bg-primary mb-1\n",
    ":width: 500px\n",
    ":align: center\n",
    "```"
   ]
  },
  {
   "cell_type": "markdown",
   "id": "af2195c1-6dfc-48eb-8281-0c02e9beda0b",
   "metadata": {},
   "source": [
    "# Near\n",
    "\n",
    "u2i 召回的典型思路：user 与其观看过的视频，在向量空间中是相近的\n",
    "\n",
    "# Far\n",
    "\n",
    "论文只提到了随机负采样\n",
    "\n",
    "# Embedding\n",
    "\n",
    "user embedding:\n",
    "\n",
    "* 用户看过视频的 embedding，pooling 成一个向量\n",
    "* 用户搜索的关键词的 embedding，pooling 成一个向量\n",
    "* 以上两个向量，加上一些用户基本属性，拼接成一个大向量，经过多层全连接层（FC）进行交叉，最后一层 FC 的输出就是 user embedding\n",
    "\n",
    "item embedding:\n",
    "\n",
    "* 模型最后会转变成多分类问题，item embedding 就是最后一层相应位置的模型参数，即最后一步计算的是 user embedding 和 item embedding 的点积\n",
    "* 论文中输入时的视频 embedding，是预先训练好的，和此处的 item embedding 并不一致 \n",
    "\n",
    "## Loss\n",
    "\n",
    "使用 sampled softmax loss"
   ]
  },
  {
   "cell_type": "code",
   "execution_count": null,
   "id": "635c4b08-a82b-4289-96f5-7ec152f7cc50",
   "metadata": {},
   "outputs": [],
   "source": []
  }
 ],
 "metadata": {
  "kernelspec": {
   "display_name": "Python 3",
   "language": "python",
   "name": "python3"
  },
  "language_info": {
   "codemirror_mode": {
    "name": "ipython",
    "version": 3
   },
   "file_extension": ".py",
   "mimetype": "text/x-python",
   "name": "python",
   "nbconvert_exporter": "python",
   "pygments_lexer": "ipython3",
   "version": "3.8.3"
  }
 },
 "nbformat": 4,
 "nbformat_minor": 5
}
