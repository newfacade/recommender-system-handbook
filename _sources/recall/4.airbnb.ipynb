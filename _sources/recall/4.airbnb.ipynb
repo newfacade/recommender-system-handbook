{
 "cells": [
  {
   "cell_type": "markdown",
   "id": "09f612f0-e12a-4f43-a01c-d4c3783e7718",
   "metadata": {},
   "source": [
    "# Airbnb 召回算法\n",
    "\n",
    "```{note}\n",
    "Airbnb 发表的 《Real-time Personalization using Embeddings for Search Ranking at Airbnb》很经典，其中介绍了 listing embedding（基于点击找出相似房源） 和 user/listing-type embedding（基于预定找出用户长期偏好） 两种召回方法。\n",
    "```"
   ]
  },
  {
   "cell_type": "markdown",
   "id": "343e825c-3ab3-4cac-a90c-0c57aabfb38f",
   "metadata": {},
   "source": [
    "## Listing embedding\n",
    "\n",
    "这是一个 i2i 的召回\n",
    "\n",
    "### Near\n",
    "\n",
    "类似于 word2vec，将用户点击序列看成是一个句子，认为滑动窗口的中心 item 与滑动窗口的其他 items 是相似的。<br>\n",
    "另外，因为每个预定会话中只有最后一个房源是被预定的房源，为了将这个预定行为引入目标函数，不管这个被预定房源在不在 word2vec 滑动窗口内，都假设这个被预定房源与滑动窗口的中心房源是相关的。\n",
    "\n",
    "### Far\n",
    "\n",
    "绝大多数负样本还是随机采样生成的。但是，Airbnb 发现，用于点击 listing 多是同城的，随机采样的负样本多是异地的。为此，Airbnb 还增加了同一地区的随机负样本作为 hard negative。\n",
    "\n",
    "### Embedding\n",
    "\n",
    "类似于 word2vec\n",
    "\n",
    "### loss\n",
    "\n",
    "sampled softmax loss"
   ]
  },
  {
   "cell_type": "markdown",
   "id": "e0205b45-d82d-4093-8b57-9c343009a19c",
   "metadata": {},
   "source": [
    "## User/listing-type embedding"
   ]
  },
  {
   "cell_type": "code",
   "execution_count": null,
   "id": "e5c7b68e-b9e1-4805-a716-79776aa0c247",
   "metadata": {},
   "outputs": [],
   "source": []
  }
 ],
 "metadata": {
  "kernelspec": {
   "display_name": "Python 3",
   "language": "python",
   "name": "python3"
  },
  "language_info": {
   "codemirror_mode": {
    "name": "ipython",
    "version": 3
   },
   "file_extension": ".py",
   "mimetype": "text/x-python",
   "name": "python",
   "nbconvert_exporter": "python",
   "pygments_lexer": "ipython3",
   "version": "3.8.3"
  }
 },
 "nbformat": 4,
 "nbformat_minor": 5
}
