{
 "cells": [
  {
   "cell_type": "markdown",
   "metadata": {},
   "source": [
    "# DIN\n",
    "\n",
    "```{note}\n",
    "DIN引入了注意力机制。\n",
    "```"
   ]
  },
  {
   "cell_type": "markdown",
   "metadata": {},
   "source": [
    "## 结构\n",
    "\n",
    "“注意力机制”来源于人类天生的“选择性注意”的习惯，如浏览网页时，我们会选择性的注意页面的特定区域，而忽视其他区域：\n",
    "\n",
    "![jupyter](../images/attention1.jpg)\n",
    "\n",
    "对于推荐系统来说，“注意力机制”也很有用。\n",
    "\n",
    "比如说一个用户访问某电商网站，我们决定是否要推“键盘”，用户的购买历史有“鼠标””T恤“”洗面奶“等，这时相比于关注”T恤“”洗面奶“的购买行为，我们应更加关注的是用户购买历史中的“鼠标”购买行为，因为“鼠标”和“键盘”的购买更“相关”。\n",
    "\n",
    "因此阿里提出了DIN模型，它的base-model是一个典型的embedding + mlp结构。\n",
    "\n",
    "![jupyter](../images/din1.jpg)\n",
    "\n",
    "base-model中，所有用户历史购买的商品Embedding会被取平均。\n",
    "\n",
    "DIN则以候选商品和历史商品的相关性为权重，取所有用户历史购买的商品Embedding的加权平均：\n",
    "\n",
    "![jupyter](../images/din2.jpg)"
   ]
  },
  {
   "cell_type": "markdown",
   "metadata": {},
   "source": [
    "## 数据预处理"
   ]
  },
  {
   "cell_type": "code",
   "execution_count": 1,
   "metadata": {},
   "outputs": [],
   "source": [
    "import tensorflow as tf\n",
    "from tensorflow import keras\n",
    "import rec\n",
    "\n",
    "# 读取movielens数据集\n",
    "train_dataset, test_dataset = rec.load_movielens()"
   ]
  },
  {
   "cell_type": "code",
   "execution_count": 2,
   "metadata": {},
   "outputs": [],
   "source": [
    "inputs = {\n",
    "    'movieAvgRating': tf.keras.layers.Input(name='movieAvgRating', shape=(), dtype='float32'),\n",
    "    'movieRatingStddev': tf.keras.layers.Input(name='movieRatingStddev', shape=(), dtype='float32'),\n",
    "    'movieRatingCount': tf.keras.layers.Input(name='movieRatingCount', shape=(), dtype='int32'),\n",
    "    'userAvgRating': tf.keras.layers.Input(name='userAvgRating', shape=(), dtype='float32'),\n",
    "    'userRatingStddev': tf.keras.layers.Input(name='userRatingStddev', shape=(), dtype='float32'),\n",
    "    'userRatingCount': tf.keras.layers.Input(name='userRatingCount', shape=(), dtype='int32'),\n",
    "    'releaseYear': tf.keras.layers.Input(name='releaseYear', shape=(), dtype='int32'),\n",
    "\n",
    "    'movieId': tf.keras.layers.Input(name='movieId', shape=(), dtype='int32'),\n",
    "    'userId': tf.keras.layers.Input(name='userId', shape=(), dtype='int32'),\n",
    "    'userRatedMovie1': tf.keras.layers.Input(name='userRatedMovie1', shape=(), dtype='int32'),\n",
    "    'userRatedMovie2': tf.keras.layers.Input(name='userRatedMovie2', shape=(), dtype='int32'),\n",
    "    'userRatedMovie3': tf.keras.layers.Input(name='userRatedMovie3', shape=(), dtype='int32'),\n",
    "    'userRatedMovie4': tf.keras.layers.Input(name='userRatedMovie4', shape=(), dtype='int32'),\n",
    "    'userRatedMovie5': tf.keras.layers.Input(name='userRatedMovie5', shape=(), dtype='int32'),\n",
    "\n",
    "    'userGenre1': tf.keras.layers.Input(name='userGenre1', shape=(), dtype='string'),\n",
    "    'userGenre2': tf.keras.layers.Input(name='userGenre2', shape=(), dtype='string'),\n",
    "    'userGenre3': tf.keras.layers.Input(name='userGenre3', shape=(), dtype='string'),\n",
    "    'userGenre4': tf.keras.layers.Input(name='userGenre4', shape=(), dtype='string'),\n",
    "    'userGenre5': tf.keras.layers.Input(name='userGenre5', shape=(), dtype='string'),\n",
    "    'movieGenre1': tf.keras.layers.Input(name='movieGenre1', shape=(), dtype='string'),\n",
    "    'movieGenre2': tf.keras.layers.Input(name='movieGenre2', shape=(), dtype='string'),\n",
    "    'movieGenre3': tf.keras.layers.Input(name='movieGenre3', shape=(), dtype='string'),\n",
    "}"
   ]
  },
  {
   "cell_type": "markdown",
   "metadata": {},
   "source": [
    "## 定义特征"
   ]
  },
  {
   "cell_type": "code",
   "execution_count": 3,
   "metadata": {},
   "outputs": [],
   "source": [
    "# movie id embedding feature\n",
    "movie_col = tf.feature_column.categorical_column_with_identity(key='movieId', num_buckets=1001)\n",
    "movie_emb_col = tf.feature_column.embedding_column(movie_col, 10)\n",
    "\n",
    "# user id embedding feature\n",
    "user_col = tf.feature_column.categorical_column_with_identity(key='userId', num_buckets=30001)\n",
    "user_emb_col = tf.feature_column.embedding_column(user_col, 10)"
   ]
  },
  {
   "cell_type": "code",
   "execution_count": 4,
   "metadata": {},
   "outputs": [],
   "source": [
    "# 电影的类别\n",
    "genre_vocab = ['Film-Noir', 'Action', 'Adventure', 'Horror', 'Romance', 'War', \n",
    "               'Comedy', 'Western', 'Documentary', 'Sci-Fi', 'Drama', 'Thriller', \n",
    "               'Crime', 'Fantasy', 'Animation', 'IMAX', 'Mystery', 'Children', 'Musical']\n",
    "\n",
    "# user genre embedding feature\n",
    "user_genre_col = tf.feature_column.categorical_column_with_vocabulary_list(key=\"userGenre1\",\n",
    "                                                                           vocabulary_list=genre_vocab)\n",
    "user_genre_emb_col = tf.feature_column.embedding_column(user_genre_col, 10)\n",
    "\n",
    "# item genre embedding feature\n",
    "item_genre_col = tf.feature_column.categorical_column_with_vocabulary_list(key=\"movieGenre1\",\n",
    "                                                                           vocabulary_list=genre_vocab)\n",
    "item_genre_emb_col = tf.feature_column.embedding_column(item_genre_col, 10)"
   ]
  },
  {
   "cell_type": "code",
   "execution_count": 5,
   "metadata": {},
   "outputs": [],
   "source": [
    "# 用户画像\n",
    "user_profile = [\n",
    "    user_emb_col,\n",
    "    user_genre_emb_col,\n",
    "    tf.feature_column.numeric_column('userRatingCount'),\n",
    "    tf.feature_column.numeric_column('userAvgRating'),\n",
    "    tf.feature_column.numeric_column('userRatingStddev'),\n",
    "]\n",
    "\n",
    "# 环境特征\n",
    "context_features = [\n",
    "    item_genre_emb_col,\n",
    "    tf.feature_column.numeric_column('releaseYear'),\n",
    "    tf.feature_column.numeric_column('movieRatingCount'),\n",
    "    tf.feature_column.numeric_column('movieAvgRating'),\n",
    "    tf.feature_column.numeric_column('movieRatingStddev'),\n",
    "]\n",
    "\n",
    "# 用户历史行为\n",
    "recent_rate_col = [\n",
    "    tf.feature_column.numeric_column(key='userRatedMovie1', default_value=0),\n",
    "    tf.feature_column.numeric_column(key='userRatedMovie2', default_value=0),\n",
    "    tf.feature_column.numeric_column(key='userRatedMovie3', default_value=0),\n",
    "    tf.feature_column.numeric_column(key='userRatedMovie4', default_value=0),\n",
    "    tf.feature_column.numeric_column(key='userRatedMovie5', default_value=0),\n",
    "]"
   ]
  },
  {
   "cell_type": "markdown",
   "metadata": {},
   "source": [
    "## 模型"
   ]
  },
  {
   "cell_type": "code",
   "execution_count": 6,
   "metadata": {},
   "outputs": [],
   "source": [
    "\"\"\"\n",
    "四大部分\n",
    "\"\"\"\n",
    "# 用户画像\n",
    "user_profile_layer = tf.keras.layers.DenseFeatures(user_profile)(inputs)\n",
    "# 物品画像\n",
    "candidate_emb_layer = tf.keras.layers.DenseFeatures([movie_emb_col])(inputs)\n",
    "# 环境\n",
    "context_features_layer = tf.keras.layers.DenseFeatures(context_features)(inputs)\n",
    "# 用户历史行为，这个需要被注意力\n",
    "user_behaviors_layer = tf.keras.layers.DenseFeatures(recent_rate_col)(inputs)"
   ]
  },
  {
   "cell_type": "code",
   "execution_count": 7,
   "metadata": {},
   "outputs": [],
   "source": [
    "\"\"\"\n",
    "注意力第一步\n",
    "\"\"\"\n",
    "# 用户行为转化为embedding，共5个用户行为\n",
    "# mask_zero: 0当做padding\n",
    "user_behaviors_emb_layer = tf.keras.layers.Embedding(input_dim=1001,\n",
    "                                                     output_dim=10,\n",
    "                                                     mask_zero=True)(user_behaviors_layer)\n",
    "# 5次复制candidate_embedding\n",
    "repeated_candidate_emb_layer = tf.keras.layers.RepeatVector(5)(candidate_emb_layer)\n",
    "\n",
    "# element-wise sub\n",
    "activation_sub_layer = tf.keras.layers.Subtract()([user_behaviors_emb_layer,\n",
    "                                                   repeated_candidate_emb_layer])\n",
    "# element-wise product\n",
    "activation_product_layer = tf.keras.layers.Multiply()([user_behaviors_emb_layer,\n",
    "                                                       repeated_candidate_emb_layer])\n",
    "# 相减，自身，相乘concat起来\n",
    "activation_all = tf.keras.layers.concatenate([activation_sub_layer, \n",
    "                                              user_behaviors_emb_layer,\n",
    "                                              repeated_candidate_emb_layer, \n",
    "                                              activation_product_layer], axis=-1)"
   ]
  },
  {
   "cell_type": "code",
   "execution_count": 8,
   "metadata": {},
   "outputs": [],
   "source": [
    "\"\"\"\n",
    "注意力第二步\n",
    "\"\"\"\n",
    "# 获得activation\n",
    "activation_unit = tf.keras.layers.Dense(32)(activation_all)\n",
    "# PReLU: 小于0的斜率为参数\n",
    "activation_unit = tf.keras.layers.PReLU()(activation_unit)\n",
    "activation_unit = tf.keras.layers.Dense(1, activation='sigmoid')(activation_unit)\n",
    "\n",
    "# 将activation（先需reshape）与user_behaviors_emb相乘\n",
    "activation_unit = tf.keras.layers.Flatten()(activation_unit)\n",
    "activation_unit = tf.keras.layers.RepeatVector(10)(activation_unit)\n",
    "activation_unit = tf.keras.layers.Permute((2, 1))(activation_unit)\n",
    "activation_unit = tf.keras.layers.Multiply()([user_behaviors_emb_layer, activation_unit])\n",
    "\n",
    "# sum pooling\n",
    "user_behaviors_pooled_layers = tf.keras.layers.Lambda(\n",
    "    lambda x: tf.keras.backend.sum(x, axis=1))(activation_unit)"
   ]
  },
  {
   "cell_type": "code",
   "execution_count": 9,
   "metadata": {},
   "outputs": [],
   "source": [
    "\"\"\"\n",
    "fc layer\n",
    "\"\"\"\n",
    "concat_layer = tf.keras.layers.concatenate([user_profile_layer, user_behaviors_pooled_layers,\n",
    "                                            candidate_emb_layer, context_features_layer])\n",
    "output_layer = tf.keras.layers.Dense(128)(concat_layer)\n",
    "output_layer = tf.keras.layers.PReLU()(output_layer)\n",
    "output_layer = tf.keras.layers.Dense(64)(output_layer)\n",
    "output_layer = tf.keras.layers.PReLU()(output_layer)\n",
    "output_layer = tf.keras.layers.Dense(1, activation='sigmoid')(output_layer)\n",
    "\n",
    "# 定义模型\n",
    "model = tf.keras.Model(inputs, output_layer)"
   ]
  },
  {
   "cell_type": "markdown",
   "metadata": {},
   "source": [
    "## 训练"
   ]
  },
  {
   "cell_type": "code",
   "execution_count": 10,
   "metadata": {},
   "outputs": [],
   "source": [
    "# compile the model, set loss function, optimizer and evaluation metrics\n",
    "model.compile(\n",
    "    loss='binary_crossentropy',\n",
    "    optimizer='adam',\n",
    "    metrics=['accuracy', tf.keras.metrics.AUC(curve='ROC'), tf.keras.metrics.AUC(curve='PR')])"
   ]
  },
  {
   "cell_type": "code",
   "execution_count": 11,
   "metadata": {},
   "outputs": [
    {
     "name": "stdout",
     "output_type": "stream",
     "text": [
      "Epoch 1/5\n"
     ]
    },
    {
     "name": "stderr",
     "output_type": "stream",
     "text": [
      "/Users/facer/opt/anaconda3/lib/python3.8/site-packages/keras/engine/functional.py:582: UserWarning: Input dict contained keys ['rating', 'timestamp', 'userAvgReleaseYear', 'userReleaseYearStddev'] which did not match any model input. They will be ignored by the model.\n",
      "  warnings.warn(\n"
     ]
    },
    {
     "name": "stdout",
     "output_type": "stream",
     "text": [
      "7403/7403 [==============================] - 23s 3ms/step - loss: 2.6686 - accuracy: 0.5811 - auc: 0.5930 - auc_1: 0.6399\n",
      "Epoch 2/5\n",
      "7403/7403 [==============================] - 19s 3ms/step - loss: 0.6658 - accuracy: 0.6666 - auc: 0.7079 - auc_1: 0.7311\n",
      "Epoch 3/5\n",
      "7403/7403 [==============================] - 19s 3ms/step - loss: 0.5635 - accuracy: 0.7131 - auc: 0.7748 - auc_1: 0.7956\n",
      "Epoch 4/5\n",
      "7403/7403 [==============================] - 19s 3ms/step - loss: 0.5174 - accuracy: 0.7446 - auc: 0.8170 - auc_1: 0.8385\n",
      "Epoch 5/5\n",
      "7403/7403 [==============================] - 20s 3ms/step - loss: 0.4922 - accuracy: 0.7606 - auc: 0.8372 - auc_1: 0.8598\n"
     ]
    },
    {
     "data": {
      "text/plain": [
       "<keras.callbacks.History at 0x7ff7cd425fd0>"
      ]
     },
     "execution_count": 11,
     "metadata": {},
     "output_type": "execute_result"
    }
   ],
   "source": [
    "# train the model\n",
    "model.fit(train_dataset, epochs=5)"
   ]
  }
 ],
 "metadata": {
  "kernelspec": {
   "display_name": "Python 3",
   "language": "python",
   "name": "python3"
  },
  "language_info": {
   "codemirror_mode": {
    "name": "ipython",
    "version": 3
   },
   "file_extension": ".py",
   "mimetype": "text/x-python",
   "name": "python",
   "nbconvert_exporter": "python",
   "pygments_lexer": "ipython3",
   "version": "3.8.3"
  }
 },
 "nbformat": 4,
 "nbformat_minor": 4
}
