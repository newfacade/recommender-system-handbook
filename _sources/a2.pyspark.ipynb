{
 "cells": [
  {
   "cell_type": "markdown",
   "metadata": {},
   "source": [
    "# pyspark\n",
    "\n",
    "```{note}\n",
    "作为Python开发者，我们安装pyspark就可以了。\n",
    "```"
   ]
  },
  {
   "cell_type": "markdown",
   "metadata": {},
   "source": [
    "## 安装pyspark\n",
    "\n",
    "```\n",
    "pip install pyspark\n",
    "```"
   ]
  },
  {
   "cell_type": "markdown",
   "metadata": {},
   "source": [
    "## 验证安装\n",
    "\n",
    "在命令行输入pyspark\n",
    "\n",
    "```\n",
    "(base) facer@bogon ~ % pyspark\n",
    "Python 3.8.3 (default, Jul  2 2020, 11:26:31)\n",
    "[Clang 10.0.0 ] :: Anaconda, Inc. on darwin\n",
    "Type \"help\", \"copyright\", \"credits\" or \"license\" for more information.\n",
    "21/09/22 20:55:31 WARN Utils: Your hostname, localhost resolves to a loopback address: 127.0.0.1; using 192.168.40.27 instead (on interface en0)\n",
    "21/09/22 20:55:31 WARN Utils: Set SPARK_LOCAL_IP if you need to bind to another address\n",
    "21/09/22 20:55:32 WARN NativeCodeLoader: Unable to load native-hadoop library for your platform... using builtin-java classes where applicable\n",
    "Using Spark's default log4j profile: org/apache/spark/log4j-defaults.properties\n",
    "Setting default log level to \"WARN\".\n",
    "To adjust logging level use sc.setLogLevel(newLevel). For SparkR, use setLogLevel(newLevel).\n",
    "Welcome to\n",
    "      ____              __\n",
    "     / __/__  ___ _____/ /__\n",
    "    _\\ \\/ _ \\/ _ `/ __/  '_/\n",
    "   /__ / .__/\\_,_/_/ /_/\\_\\   version 3.0.2\n",
    "      /_/\n",
    "\n",
    "Using Python version 3.8.3 (default, Jul  2 2020 11:26:31)\n",
    "SparkSession available as 'spark'.\n",
    ">>> spark.version\n",
    "'3.0.2'\n",
    "```"
   ]
  },
  {
   "cell_type": "markdown",
   "metadata": {},
   "source": [
    "## 第一个应用\n",
    "\n",
    "读取文件711.csv，看它一共有多少行\n",
    "\n",
    "```\n",
    ">>> strings = spark.read.text(\"711.csv\")\n",
    ">>> strings.show(10, truncate=False)\n",
    "+-------------------------------------------------+\n",
    "|value                                            |\n",
    "+-------------------------------------------------+\n",
    "|,type,num                                        |\n",
    "|0,711_num,2327667                                |\n",
    "|1,null,0                                         |\n",
    "|2,type_kon,0                                     |\n",
    "|3,3,825514                                       |\n",
    "|4,00000000394ff8d2ffffffffef05ac4a1631721599933,1|\n",
    "|5,ffffffffe0eb728fffffffffef05ac4a1631721598585,1|\n",
    "|6,ffffffffd939cd30ffffffffef05ac4a1631721597218,1|\n",
    "|7,ffffffff8cdf04b1ffffffffef05ac4a1631721598461,1|\n",
    "|8,ffffffffe5264d24ffffffffef05ac4a1631721597847,1|\n",
    "+-------------------------------------------------+\n",
    "only showing top 10 rows\n",
    "\n",
    ">>> strings.count()\n",
    "1487181\n",
    "```"
   ]
  },
  {
   "cell_type": "code",
   "execution_count": null,
   "metadata": {},
   "outputs": [],
   "source": []
  }
 ],
 "metadata": {
  "kernelspec": {
   "display_name": "Python 3",
   "language": "python",
   "name": "python3"
  },
  "language_info": {
   "codemirror_mode": {
    "name": "ipython",
    "version": 3
   },
   "file_extension": ".py",
   "mimetype": "text/x-python",
   "name": "python",
   "nbconvert_exporter": "python",
   "pygments_lexer": "ipython3",
   "version": "3.8.3"
  }
 },
 "nbformat": 4,
 "nbformat_minor": 4
}
